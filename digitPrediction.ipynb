{
  "nbformat": 4,
  "nbformat_minor": 0,
  "metadata": {
    "colab": {
      "name": "digitPrediction.ipynb",
      "provenance": [],
      "collapsed_sections": []
    },
    "kernelspec": {
      "name": "python3",
      "display_name": "Python 3"
    },
    "language_info": {
      "name": "python"
    },
    "accelerator": "GPU",
    "gpuClass": "standard"
  },
  "cells": [
    {
      "cell_type": "markdown",
      "source": [
        "# Digit Prediction Using CNN\n"
      ],
      "metadata": {
        "id": "dyiqNw0E_5nG"
      }
    },
    {
      "cell_type": "code",
      "source": [
        "!pip install keras-tuner"
      ],
      "metadata": {
        "colab": {
          "base_uri": "https://localhost:8080/"
        },
        "id": "K9oUbotMAAlD",
        "outputId": "c7c6017f-aef5-4044-f0c8-9a1b5c9dd2a3"
      },
      "execution_count": 1,
      "outputs": [
        {
          "output_type": "stream",
          "name": "stdout",
          "text": [
            "Looking in indexes: https://pypi.org/simple, https://us-python.pkg.dev/colab-wheels/public/simple/\n",
            "Collecting keras-tuner\n",
            "  Downloading keras_tuner-1.1.3-py3-none-any.whl (135 kB)\n",
            "\u001b[K     |████████████████████████████████| 135 kB 13.9 MB/s \n",
            "\u001b[?25hRequirement already satisfied: tensorboard in /usr/local/lib/python3.7/dist-packages (from keras-tuner) (2.8.0)\n",
            "Requirement already satisfied: packaging in /usr/local/lib/python3.7/dist-packages (from keras-tuner) (21.3)\n",
            "Requirement already satisfied: requests in /usr/local/lib/python3.7/dist-packages (from keras-tuner) (2.23.0)\n",
            "Requirement already satisfied: ipython in /usr/local/lib/python3.7/dist-packages (from keras-tuner) (7.9.0)\n",
            "Collecting kt-legacy\n",
            "  Downloading kt_legacy-1.0.4-py3-none-any.whl (9.6 kB)\n",
            "Requirement already satisfied: numpy in /usr/local/lib/python3.7/dist-packages (from keras-tuner) (1.21.6)\n",
            "Requirement already satisfied: prompt-toolkit<2.1.0,>=2.0.0 in /usr/local/lib/python3.7/dist-packages (from ipython->keras-tuner) (2.0.10)\n",
            "Requirement already satisfied: pickleshare in /usr/local/lib/python3.7/dist-packages (from ipython->keras-tuner) (0.7.5)\n",
            "Requirement already satisfied: decorator in /usr/local/lib/python3.7/dist-packages (from ipython->keras-tuner) (4.4.2)\n",
            "Requirement already satisfied: setuptools>=18.5 in /usr/local/lib/python3.7/dist-packages (from ipython->keras-tuner) (57.4.0)\n",
            "Requirement already satisfied: traitlets>=4.2 in /usr/local/lib/python3.7/dist-packages (from ipython->keras-tuner) (5.1.1)\n",
            "Requirement already satisfied: backcall in /usr/local/lib/python3.7/dist-packages (from ipython->keras-tuner) (0.2.0)\n",
            "Requirement already satisfied: pexpect in /usr/local/lib/python3.7/dist-packages (from ipython->keras-tuner) (4.8.0)\n",
            "Requirement already satisfied: pygments in /usr/local/lib/python3.7/dist-packages (from ipython->keras-tuner) (2.6.1)\n",
            "Collecting jedi>=0.10\n",
            "  Downloading jedi-0.18.1-py2.py3-none-any.whl (1.6 MB)\n",
            "\u001b[K     |████████████████████████████████| 1.6 MB 59.5 MB/s \n",
            "\u001b[?25hRequirement already satisfied: parso<0.9.0,>=0.8.0 in /usr/local/lib/python3.7/dist-packages (from jedi>=0.10->ipython->keras-tuner) (0.8.3)\n",
            "Requirement already satisfied: six>=1.9.0 in /usr/local/lib/python3.7/dist-packages (from prompt-toolkit<2.1.0,>=2.0.0->ipython->keras-tuner) (1.15.0)\n",
            "Requirement already satisfied: wcwidth in /usr/local/lib/python3.7/dist-packages (from prompt-toolkit<2.1.0,>=2.0.0->ipython->keras-tuner) (0.2.5)\n",
            "Requirement already satisfied: pyparsing!=3.0.5,>=2.0.2 in /usr/local/lib/python3.7/dist-packages (from packaging->keras-tuner) (3.0.9)\n",
            "Requirement already satisfied: ptyprocess>=0.5 in /usr/local/lib/python3.7/dist-packages (from pexpect->ipython->keras-tuner) (0.7.0)\n",
            "Requirement already satisfied: chardet<4,>=3.0.2 in /usr/local/lib/python3.7/dist-packages (from requests->keras-tuner) (3.0.4)\n",
            "Requirement already satisfied: idna<3,>=2.5 in /usr/local/lib/python3.7/dist-packages (from requests->keras-tuner) (2.10)\n",
            "Requirement already satisfied: urllib3!=1.25.0,!=1.25.1,<1.26,>=1.21.1 in /usr/local/lib/python3.7/dist-packages (from requests->keras-tuner) (1.24.3)\n",
            "Requirement already satisfied: certifi>=2017.4.17 in /usr/local/lib/python3.7/dist-packages (from requests->keras-tuner) (2022.6.15)\n",
            "Requirement already satisfied: protobuf>=3.6.0 in /usr/local/lib/python3.7/dist-packages (from tensorboard->keras-tuner) (3.17.3)\n",
            "Requirement already satisfied: wheel>=0.26 in /usr/local/lib/python3.7/dist-packages (from tensorboard->keras-tuner) (0.37.1)\n",
            "Requirement already satisfied: google-auth<3,>=1.6.3 in /usr/local/lib/python3.7/dist-packages (from tensorboard->keras-tuner) (1.35.0)\n",
            "Requirement already satisfied: tensorboard-data-server<0.7.0,>=0.6.0 in /usr/local/lib/python3.7/dist-packages (from tensorboard->keras-tuner) (0.6.1)\n",
            "Requirement already satisfied: werkzeug>=0.11.15 in /usr/local/lib/python3.7/dist-packages (from tensorboard->keras-tuner) (1.0.1)\n",
            "Requirement already satisfied: absl-py>=0.4 in /usr/local/lib/python3.7/dist-packages (from tensorboard->keras-tuner) (1.2.0)\n",
            "Requirement already satisfied: tensorboard-plugin-wit>=1.6.0 in /usr/local/lib/python3.7/dist-packages (from tensorboard->keras-tuner) (1.8.1)\n",
            "Requirement already satisfied: google-auth-oauthlib<0.5,>=0.4.1 in /usr/local/lib/python3.7/dist-packages (from tensorboard->keras-tuner) (0.4.6)\n",
            "Requirement already satisfied: markdown>=2.6.8 in /usr/local/lib/python3.7/dist-packages (from tensorboard->keras-tuner) (3.4.1)\n",
            "Requirement already satisfied: grpcio>=1.24.3 in /usr/local/lib/python3.7/dist-packages (from tensorboard->keras-tuner) (1.47.0)\n",
            "Requirement already satisfied: cachetools<5.0,>=2.0.0 in /usr/local/lib/python3.7/dist-packages (from google-auth<3,>=1.6.3->tensorboard->keras-tuner) (4.2.4)\n",
            "Requirement already satisfied: pyasn1-modules>=0.2.1 in /usr/local/lib/python3.7/dist-packages (from google-auth<3,>=1.6.3->tensorboard->keras-tuner) (0.2.8)\n",
            "Requirement already satisfied: rsa<5,>=3.1.4 in /usr/local/lib/python3.7/dist-packages (from google-auth<3,>=1.6.3->tensorboard->keras-tuner) (4.9)\n",
            "Requirement already satisfied: requests-oauthlib>=0.7.0 in /usr/local/lib/python3.7/dist-packages (from google-auth-oauthlib<0.5,>=0.4.1->tensorboard->keras-tuner) (1.3.1)\n",
            "Requirement already satisfied: importlib-metadata>=4.4 in /usr/local/lib/python3.7/dist-packages (from markdown>=2.6.8->tensorboard->keras-tuner) (4.12.0)\n",
            "Requirement already satisfied: typing-extensions>=3.6.4 in /usr/local/lib/python3.7/dist-packages (from importlib-metadata>=4.4->markdown>=2.6.8->tensorboard->keras-tuner) (4.1.1)\n",
            "Requirement already satisfied: zipp>=0.5 in /usr/local/lib/python3.7/dist-packages (from importlib-metadata>=4.4->markdown>=2.6.8->tensorboard->keras-tuner) (3.8.1)\n",
            "Requirement already satisfied: pyasn1<0.5.0,>=0.4.6 in /usr/local/lib/python3.7/dist-packages (from pyasn1-modules>=0.2.1->google-auth<3,>=1.6.3->tensorboard->keras-tuner) (0.4.8)\n",
            "Requirement already satisfied: oauthlib>=3.0.0 in /usr/local/lib/python3.7/dist-packages (from requests-oauthlib>=0.7.0->google-auth-oauthlib<0.5,>=0.4.1->tensorboard->keras-tuner) (3.2.0)\n",
            "Installing collected packages: jedi, kt-legacy, keras-tuner\n",
            "Successfully installed jedi-0.18.1 keras-tuner-1.1.3 kt-legacy-1.0.4\n"
          ]
        }
      ]
    },
    {
      "cell_type": "code",
      "source": [
        "import numpy as np\n",
        "import pandas as pd\n",
        "import tensorflow as tf\n",
        "from tensorflow import keras\n",
        "from keras.datasets import mnist\n",
        "import matplotlib.pyplot as plt"
      ],
      "metadata": {
        "id": "at2gedAyADI2"
      },
      "execution_count": 2,
      "outputs": []
    },
    {
      "cell_type": "code",
      "source": [
        "digit_mnist = mnist.load_data()"
      ],
      "metadata": {
        "colab": {
          "base_uri": "https://localhost:8080/"
        },
        "id": "pszKGIMHAKbq",
        "outputId": "e6c1ca00-ec1a-4160-c4fa-3f8f27521149"
      },
      "execution_count": 3,
      "outputs": [
        {
          "output_type": "stream",
          "name": "stdout",
          "text": [
            "Downloading data from https://storage.googleapis.com/tensorflow/tf-keras-datasets/mnist.npz\n",
            "11493376/11490434 [==============================] - 0s 0us/step\n",
            "11501568/11490434 [==============================] - 0s 0us/step\n"
          ]
        }
      ]
    },
    {
      "cell_type": "code",
      "source": [
        "(train_img, train_lable), (test_img,test_lable) = digit_mnist"
      ],
      "metadata": {
        "id": "V8kh8lqkAOQ0"
      },
      "execution_count": 4,
      "outputs": []
    },
    {
      "cell_type": "code",
      "source": [
        "print(train_img[0].shape)"
      ],
      "metadata": {
        "colab": {
          "base_uri": "https://localhost:8080/"
        },
        "id": "-9UjaD9ZAWsY",
        "outputId": "2a026f6b-5a82-471a-dc5a-6103f2d0944d"
      },
      "execution_count": 5,
      "outputs": [
        {
          "output_type": "stream",
          "name": "stdout",
          "text": [
            "(28, 28)\n"
          ]
        }
      ]
    },
    {
      "cell_type": "code",
      "source": [
        "plt.imshow(train_img[100])"
      ],
      "metadata": {
        "colab": {
          "base_uri": "https://localhost:8080/",
          "height": 282
        },
        "id": "BO92qPbRAaaT",
        "outputId": "eb2e3887-ea81-4932-d3ed-32363d5eca86"
      },
      "execution_count": 6,
      "outputs": [
        {
          "output_type": "execute_result",
          "data": {
            "text/plain": [
              "<matplotlib.image.AxesImage at 0x7f44739d49d0>"
            ]
          },
          "metadata": {},
          "execution_count": 6
        },
        {
          "output_type": "display_data",
          "data": {
            "text/plain": [
              "<Figure size 432x288 with 1 Axes>"
            ],
            "image/png": "[encoded data removed]"
          },
          "metadata": {
            "needs_background": "light"
          }
        }
      ]
    },
    {
      "cell_type": "code",
      "source": [
        "print(train_img.shape)\n",
        "print(test_img.shape)"
      ],
      "metadata": {
        "colab": {
          "base_uri": "https://localhost:8080/"
        },
        "id": "IohhjSRBAbXl",
        "outputId": "761e74c8-0aed-4483-da7a-bb6746f9cb4c"
      },
      "execution_count": 7,
      "outputs": [
        {
          "output_type": "stream",
          "name": "stdout",
          "text": [
            "(60000, 28, 28)\n",
            "(10000, 28, 28)\n"
          ]
        }
      ]
    },
    {
      "cell_type": "code",
      "source": [
        "train_img = train_img/255\n",
        "test_img = test_img/255"
      ],
      "metadata": {
        "id": "LN7YV5SNAmHv"
      },
      "execution_count": 8,
      "outputs": []
    },
    {
      "cell_type": "code",
      "source": [
        "train_img = train_img.reshape(len(train_img),28,28,1)\n",
        "test_img = test_img.reshape(len(test_img),28,28,1)"
      ],
      "metadata": {
        "id": "IWkHdATSApQW"
      },
      "execution_count": 9,
      "outputs": []
    },
    {
      "cell_type": "code",
      "source": [
        "print(train_img.shape)\n",
        "print(test_img.shape)"
      ],
      "metadata": {
        "colab": {
          "base_uri": "https://localhost:8080/"
        },
        "id": "kEpsM36uAyBH",
        "outputId": "8b64b546-cdc6-4f0c-978b-6eaba7a95344"
      },
      "execution_count": 10,
      "outputs": [
        {
          "output_type": "stream",
          "name": "stdout",
          "text": [
            "(60000, 28, 28, 1)\n",
            "(10000, 28, 28, 1)\n"
          ]
        }
      ]
    },
    {
      "cell_type": "code",
      "source": [
        "def build_model(Hp):\n",
        "  cnnModel = keras.Sequential(\n",
        "      [\n",
        "          keras.layers.Conv2D(\n",
        "              filters = Hp.Int('conv_1_filter',min_value = 32, max_value = 128, step = 12 ),\n",
        "              kernel_size = Hp.Choice('conv_1_kernel',values=[3,5,7,10]),\n",
        "              activation = 'relu',\n",
        "              # kernel_initializer = 'he-uniform',\n",
        "              # use_bias = True,\n",
        "              # bias_initializer = 'he-normal',\n",
        "              input_shape = (28,28,1)\n",
        "          ),\n",
        "\n",
        "          keras.layers.Conv2D(\n",
        "              filters = Hp.Int('conv_2_filter',min_value = 32, max_value = 128, step = 16 ),\n",
        "              kernel_size = Hp.Choice('conv_2_kernel',values=[3,5,7,10]),\n",
        "              activation = 'relu',\n",
        "              # kernel_initializer = 'he-uniform',\n",
        "              # use_bias = True,\n",
        "              # bias_initializer = 'he-normall',\n",
        "          ),\n",
        "\n",
        "          keras.layers.MaxPooling2D(\n",
        "              pool_size=(2,2)\n",
        "          ),\n",
        "\n",
        "          keras.layers.Flatten(),\n",
        "\n",
        "          keras.layers.Dense(10,activation='softmax')\n",
        "\n",
        "      ]\n",
        "  )\n",
        "  cnnModel.compile(\n",
        "      optimizer = keras.optimizers.Adam(\n",
        "      Hp.Choice('learning_rate', values = [1e-2,1e-4,1e-5])),\n",
        "      loss = 'sparse_categorical_crossentropy',\n",
        "      metrics = ['accuracy']\n",
        "  )\n",
        "  return cnnModel"
      ],
      "metadata": {
        "id": "O6DNgAIvA05X"
      },
      "execution_count": 11,
      "outputs": []
    },
    {
      "cell_type": "code",
      "source": [
        "from kerastuner import RandomSearch\n",
        "from kerastuner.engine.hyperparameters import HyperParameters"
      ],
      "metadata": {
        "colab": {
          "base_uri": "https://localhost:8080/"
        },
        "id": "pRaDdcLoCFj9",
        "outputId": "b8538baf-e494-4063-a5a1-b1ac612bdfa6"
      },
      "execution_count": 12,
      "outputs": [
        {
          "output_type": "stream",
          "name": "stderr",
          "text": [
            "/usr/local/lib/python3.7/dist-packages/ipykernel_launcher.py:1: DeprecationWarning: `import kerastuner` is deprecated, please use `import keras_tuner`.\n",
            "  \"\"\"Entry point for launching an IPython kernel.\n"
          ]
        }
      ]
    },
    {
      "cell_type": "code",
      "source": [
        "tuner_search = RandomSearch(\n",
        "    build_model,\n",
        "    objective = 'val_accuracy',\n",
        "    max_trials = 5,\n",
        "    directory = 'output',\n",
        "    project_name = \"predict_digit\"\n",
        ")"
      ],
      "metadata": {
        "id": "_gGSpEjDCJfx"
      },
      "execution_count": 13,
      "outputs": []
    },
    {
      "cell_type": "code",
      "source": [
        "tuner_search.search(train_img,train_lable,epochs=15,validation_split=0.1)"
      ],
      "metadata": {
        "colab": {
          "base_uri": "https://localhost:8080/"
        },
        "id": "p2vGrXtWCQxL",
        "outputId": "bcf56c62-803f-40f8-e546-00c460113681"
      },
      "execution_count": 14,
      "outputs": [
        {
          "output_type": "stream",
          "name": "stdout",
          "text": [
            "Trial 5 Complete [00h 02m 23s]\n",
            "val_accuracy: 0.9746666550636292\n",
            "\n",
            "Best val_accuracy So Far: 0.9919999837875366\n",
            "Total elapsed time: 00h 12m 13s\n"
          ]
        }
      ]
    },
    {
      "cell_type": "code",
      "source": [
        "model = tuner_search.get_best_models(num_models=1)[0]"
      ],
      "metadata": {
        "id": "YcpxkMeeCWTk"
      },
      "execution_count": 15,
      "outputs": []
    },
    {
      "cell_type": "code",
      "source": [
        "model.summary()"
      ],
      "metadata": {
        "colab": {
          "base_uri": "https://localhost:8080/"
        },
        "id": "EeGmHj3-FbjP",
        "outputId": "2d23fc07-d00f-4b1c-b3bd-43f215a40efc"
      },
      "execution_count": 16,
      "outputs": [
        {
          "output_type": "stream",
          "name": "stdout",
          "text": [
            "Model: \"sequential\"\n",
            "_________________________________________________________________\n",
            " Layer (type)                Output Shape              Param #   \n",
            "=================================================================\n",
            " conv2d (Conv2D)             (None, 24, 24, 128)       3328      \n",
            "                                                                 \n",
            " conv2d_1 (Conv2D)           (None, 20, 20, 112)       358512    \n",
            "                                                                 \n",
            " max_pooling2d (MaxPooling2D  (None, 10, 10, 112)      0         \n",
            " )                                                               \n",
            "                                                                 \n",
            " flatten (Flatten)           (None, 11200)             0         \n",
            "                                                                 \n",
            " dense (Dense)               (None, 10)                112010    \n",
            "                                                                 \n",
            "=================================================================\n",
            "Total params: 473,850\n",
            "Trainable params: 473,850\n",
            "Non-trainable params: 0\n",
            "_________________________________________________________________\n"
          ]
        }
      ]
    },
    {
      "cell_type": "code",
      "source": [
        "model.fit(train_img,train_lable,validation_split=0.3,epochs=20,initial_epoch=15)"
      ],
      "metadata": {
        "colab": {
          "base_uri": "https://localhost:8080/"
        },
        "id": "QvRGXTL9Fez2",
        "outputId": "89a32fad-2c3d-4ff8-8b5b-f6c25c6b121e"
      },
      "execution_count": 18,
      "outputs": [
        {
          "output_type": "stream",
          "name": "stdout",
          "text": [
            "Epoch 16/20\n",
            "1313/1313 [==============================] - 10s 8ms/step - loss: 0.0074 - accuracy: 0.9977 - val_loss: 0.0196 - val_accuracy: 0.9959\n",
            "Epoch 17/20\n",
            "1313/1313 [==============================] - 10s 8ms/step - loss: 0.0036 - accuracy: 0.9989 - val_loss: 0.0209 - val_accuracy: 0.9962\n",
            "Epoch 18/20\n",
            "1313/1313 [==============================] - 10s 8ms/step - loss: 0.0032 - accuracy: 0.9988 - val_loss: 0.0224 - val_accuracy: 0.9954\n",
            "Epoch 19/20\n",
            "1313/1313 [==============================] - 9s 7ms/step - loss: 0.0018 - accuracy: 0.9996 - val_loss: 0.0225 - val_accuracy: 0.9949\n",
            "Epoch 20/20\n",
            "1313/1313 [==============================] - 10s 8ms/step - loss: 0.0032 - accuracy: 0.9990 - val_loss: 0.0253 - val_accuracy: 0.9947\n"
          ]
        },
        {
          "output_type": "execute_result",
          "data": {
            "text/plain": [
              "<keras.callbacks.History at 0x7f43f4643b90>"
            ]
          },
          "metadata": {},
          "execution_count": 18
        }
      ]
    },
    {
      "cell_type": "code",
      "source": [
        "model.evaluate(test_img,test_lable)"
      ],
      "metadata": {
        "colab": {
          "base_uri": "https://localhost:8080/"
        },
        "id": "jwpHm236FzLu",
        "outputId": "48e4b8f8-99eb-45ec-89e7-e0c645f9be6b"
      },
      "execution_count": 19,
      "outputs": [
        {
          "output_type": "stream",
          "name": "stdout",
          "text": [
            "313/313 [==============================] - 1s 4ms/step - loss: 0.0225 - accuracy: 0.9927\n"
          ]
        },
        {
          "output_type": "execute_result",
          "data": {
            "text/plain": [
              "[0.022485367953777313, 0.9926999807357788]"
            ]
          },
          "metadata": {},
          "execution_count": 19
        }
      ]
    },
    {
      "cell_type": "code",
      "source": [
        "y_pred = model.predict(test_img)"
      ],
      "metadata": {
        "id": "xVrhzRmWF5Vj"
      },
      "execution_count": 20,
      "outputs": []
    },
    {
      "cell_type": "code",
      "source": [
        "y_classes = [np.argmax(element) for element in y_pred]\n",
        "y_classes[:10]"
      ],
      "metadata": {
        "colab": {
          "base_uri": "https://localhost:8080/"
        },
        "id": "WOyP00OAF9UX",
        "outputId": "94cc2b2d-bf1b-413d-92ff-6a172809bff0"
      },
      "execution_count": 21,
      "outputs": [
        {
          "output_type": "execute_result",
          "data": {
            "text/plain": [
              "[7, 2, 1, 0, 4, 1, 4, 9, 5, 9]"
            ]
          },
          "metadata": {},
          "execution_count": 21
        }
      ]
    },
    {
      "cell_type": "code",
      "source": [
        "test_lable[:10]"
      ],
      "metadata": {
        "colab": {
          "base_uri": "https://localhost:8080/"
        },
        "id": "u9-P_NO1F_-b",
        "outputId": "a69e7e4e-afd5-4bd1-e8be-a0f4761addee"
      },
      "execution_count": 22,
      "outputs": [
        {
          "output_type": "execute_result",
          "data": {
            "text/plain": [
              "array([7, 2, 1, 0, 4, 1, 4, 9, 5, 9], dtype=uint8)"
            ]
          },
          "metadata": {},
          "execution_count": 22
        }
      ]
    },
    {
      "cell_type": "markdown",
      "source": [
        "# Converting the Image using DCT"
      ],
      "metadata": {
        "id": "ISYj12xbGFUT"
      }
    },
    {
      "cell_type": "code",
      "source": [
        "from scipy import fft"
      ],
      "metadata": {
        "id": "9LX6k903GLoo"
      },
      "execution_count": 23,
      "outputs": []
    },
    {
      "cell_type": "code",
      "source": [
        "train_img = train_img.reshape(len(train_img),28,28)\n",
        "test_img = test_img.reshape(len(test_img),28,28)"
      ],
      "metadata": {
        "id": "jVNpkBwsGS6X"
      },
      "execution_count": 24,
      "outputs": []
    },
    {
      "cell_type": "code",
      "source": [
        "plt.imshow(train_img[110])"
      ],
      "metadata": {
        "colab": {
          "base_uri": "https://localhost:8080/",
          "height": 282
        },
        "id": "Blz-7pWeGWWH",
        "outputId": "f5669f38-a83c-48fe-b50d-d9b3512a40ea"
      },
      "execution_count": 25,
      "outputs": [
        {
          "output_type": "execute_result",
          "data": {
            "text/plain": [
              "<matplotlib.image.AxesImage at 0x7f43f46594d0>"
            ]
          },
          "metadata": {},
          "execution_count": 25
        },
        {
          "output_type": "display_data",
          "data": {
            "text/plain": [
              "<Figure size 432x288 with 1 Axes>"
            ],
            "image/png": "[encoded data removed]"
          },
          "metadata": {
            "needs_background": "light"
          }
        }
      ]
    },
    {
      "cell_type": "code",
      "source": [
        "dct_train_img = fft.dct(train_img)\n",
        "dct_test_img = fft.dct(test_img)"
      ],
      "metadata": {
        "id": "7RRVQ-t4GYyp"
      },
      "execution_count": 26,
      "outputs": []
    },
    {
      "cell_type": "code",
      "source": [
        "plt.imshow(dct_train_img[110])"
      ],
      "metadata": {
        "colab": {
          "base_uri": "https://localhost:8080/",
          "height": 282
        },
        "id": "C58XMBs-GcvU",
        "outputId": "96418148-fec3-49b0-ab0b-2cf65645993c"
      },
      "execution_count": 27,
      "outputs": [
        {
          "output_type": "execute_result",
          "data": {
            "text/plain": [
              "<matplotlib.image.AxesImage at 0x7f43f448e310>"
            ]
          },
          "metadata": {},
          "execution_count": 27
        },
        {
          "output_type": "display_data",
          "data": {
            "text/plain": [
              "<Figure size 432x288 with 1 Axes>"
            ],
            "image/png": "[encoded data removed]"
          },
          "metadata": {
            "needs_background": "light"
          }
        }
      ]
    },
    {
      "cell_type": "code",
      "source": [
        "dct_train_img = dct_train_img.reshape(len(dct_train_img),28,28,1)\n",
        "dct_test_img = dct_test_img.reshape(len(dct_test_img),28,28,1)"
      ],
      "metadata": {
        "id": "POJmK26bGhSp"
      },
      "execution_count": 28,
      "outputs": []
    },
    {
      "cell_type": "code",
      "source": [
        "model.fit(dct_train_img,train_lable,validation_split=0.3,epochs=20)"
      ],
      "metadata": {
        "colab": {
          "base_uri": "https://localhost:8080/"
        },
        "id": "gaqENBdvGp6n",
        "outputId": "e9f8a8dd-2825-4b0c-f840-4f63f9a8da87"
      },
      "execution_count": 30,
      "outputs": [
        {
          "output_type": "stream",
          "name": "stdout",
          "text": [
            "Epoch 1/20\n",
            "1313/1313 [==============================] - 10s 8ms/step - loss: 0.0601 - accuracy: 0.9815 - val_loss: 0.0802 - val_accuracy: 0.9767\n",
            "Epoch 2/20\n",
            "1313/1313 [==============================] - 9s 7ms/step - loss: 0.0412 - accuracy: 0.9874 - val_loss: 0.0790 - val_accuracy: 0.9784\n",
            "Epoch 3/20\n",
            "1313/1313 [==============================] - 9s 7ms/step - loss: 0.0292 - accuracy: 0.9915 - val_loss: 0.0708 - val_accuracy: 0.9800\n",
            "Epoch 4/20\n",
            "1313/1313 [==============================] - 10s 8ms/step - loss: 0.0204 - accuracy: 0.9940 - val_loss: 0.0743 - val_accuracy: 0.9799\n",
            "Epoch 5/20\n",
            "1313/1313 [==============================] - 10s 7ms/step - loss: 0.0133 - accuracy: 0.9964 - val_loss: 0.0697 - val_accuracy: 0.9815\n",
            "Epoch 6/20\n",
            "1313/1313 [==============================] - 9s 7ms/step - loss: 0.0087 - accuracy: 0.9978 - val_loss: 0.0791 - val_accuracy: 0.9802\n",
            "Epoch 7/20\n",
            "1313/1313 [==============================] - 9s 7ms/step - loss: 0.0064 - accuracy: 0.9985 - val_loss: 0.0815 - val_accuracy: 0.9826\n",
            "Epoch 8/20\n",
            "1313/1313 [==============================] - 10s 8ms/step - loss: 0.0044 - accuracy: 0.9990 - val_loss: 0.0837 - val_accuracy: 0.9818\n",
            "Epoch 9/20\n",
            "1313/1313 [==============================] - 9s 7ms/step - loss: 0.0030 - accuracy: 0.9994 - val_loss: 0.0812 - val_accuracy: 0.9831\n",
            "Epoch 10/20\n",
            "1313/1313 [==============================] - 9s 7ms/step - loss: 0.0023 - accuracy: 0.9996 - val_loss: 0.0854 - val_accuracy: 0.9826\n",
            "Epoch 11/20\n",
            "1313/1313 [==============================] - 10s 8ms/step - loss: 0.0016 - accuracy: 0.9997 - val_loss: 0.0842 - val_accuracy: 0.9819\n",
            "Epoch 12/20\n",
            "1313/1313 [==============================] - 10s 8ms/step - loss: 0.0028 - accuracy: 0.9993 - val_loss: 0.0893 - val_accuracy: 0.9827\n",
            "Epoch 13/20\n",
            "1313/1313 [==============================] - 10s 8ms/step - loss: 0.0022 - accuracy: 0.9994 - val_loss: 0.0893 - val_accuracy: 0.9826\n",
            "Epoch 14/20\n",
            "1313/1313 [==============================] - 9s 7ms/step - loss: 4.6652e-04 - accuracy: 1.0000 - val_loss: 0.0877 - val_accuracy: 0.9833\n",
            "Epoch 15/20\n",
            "1313/1313 [==============================] - 10s 8ms/step - loss: 1.3163e-04 - accuracy: 1.0000 - val_loss: 0.0885 - val_accuracy: 0.9837\n",
            "Epoch 16/20\n",
            "1313/1313 [==============================] - 10s 8ms/step - loss: 2.6348e-04 - accuracy: 0.9999 - val_loss: 0.1885 - val_accuracy: 0.9683\n",
            "Epoch 17/20\n",
            "1313/1313 [==============================] - 10s 8ms/step - loss: 0.0039 - accuracy: 0.9985 - val_loss: 0.0953 - val_accuracy: 0.9830\n",
            "Epoch 18/20\n",
            "1313/1313 [==============================] - 9s 7ms/step - loss: 3.0554e-04 - accuracy: 1.0000 - val_loss: 0.0947 - val_accuracy: 0.9837\n",
            "Epoch 19/20\n",
            "1313/1313 [==============================] - 9s 7ms/step - loss: 5.9406e-05 - accuracy: 1.0000 - val_loss: 0.0952 - val_accuracy: 0.9841\n",
            "Epoch 20/20\n",
            "1313/1313 [==============================] - 9s 7ms/step - loss: 3.7959e-05 - accuracy: 1.0000 - val_loss: 0.0992 - val_accuracy: 0.9838\n"
          ]
        },
        {
          "output_type": "execute_result",
          "data": {
            "text/plain": [
              "<keras.callbacks.History at 0x7f43f416d5d0>"
            ]
          },
          "metadata": {},
          "execution_count": 30
        }
      ]
    },
    {
      "cell_type": "code",
      "source": [
        "model.evaluate(dct_test_img,test_lable)"
      ],
      "metadata": {
        "colab": {
          "base_uri": "https://localhost:8080/"
        },
        "id": "EuR4qR3yGuJH",
        "outputId": "3bdbb0ff-a22c-49ea-b74d-073f91bab255"
      },
      "execution_count": 31,
      "outputs": [
        {
          "output_type": "stream",
          "name": "stdout",
          "text": [
            "313/313 [==============================] - 1s 4ms/step - loss: 0.0805 - accuracy: 0.9861\n"
          ]
        },
        {
          "output_type": "execute_result",
          "data": {
            "text/plain": [
              "[0.08053826540708542, 0.9861000180244446]"
            ]
          },
          "metadata": {},
          "execution_count": 31
        }
      ]
    },
    {
      "cell_type": "code",
      "source": [
        "dct_y_pred = model.predict(test_img)"
      ],
      "metadata": {
        "id": "c091RlJMHUok"
      },
      "execution_count": 32,
      "outputs": []
    },
    {
      "cell_type": "code",
      "source": [
        "dct_y_classes = [np.argmax(element) for element in dct_y_pred]\n",
        "dct_y_classes[:10]"
      ],
      "metadata": {
        "colab": {
          "base_uri": "https://localhost:8080/"
        },
        "id": "HnSxztBKHZZ7",
        "outputId": "8a9c573d-7343-4a6c-b87a-c0558aa7f3c2"
      },
      "execution_count": 33,
      "outputs": [
        {
          "output_type": "execute_result",
          "data": {
            "text/plain": [
              "[7, 2, 6, 0, 5, 1, 2, 9, 5, 9]"
            ]
          },
          "metadata": {},
          "execution_count": 33
        }
      ]
    },
    {
      "cell_type": "code",
      "source": [
        "test_lable[:10]"
      ],
      "metadata": {
        "colab": {
          "base_uri": "https://localhost:8080/"
        },
        "id": "JLCGeuU7Hg9u",
        "outputId": "c76e6371-af0a-4eea-b456-234bdc489f17"
      },
      "execution_count": 34,
      "outputs": [
        {
          "output_type": "execute_result",
          "data": {
            "text/plain": [
              "array([7, 2, 1, 0, 4, 1, 4, 9, 5, 9], dtype=uint8)"
            ]
          },
          "metadata": {},
          "execution_count": 34
        }
      ]
    },
    {
      "cell_type": "markdown",
      "source": [
        "# No Idea"
      ],
      "metadata": {
        "id": "uA7osA_aJ2zy"
      }
    },
    {
      "cell_type": "code",
      "source": [
        "fft_train_img = np.fft.fft2(train_img)\n",
        "fftshift_train_img = np.fft.fftshift(fft_train_img)"
      ],
      "metadata": {
        "id": "r6bz3ymzJ7kZ"
      },
      "execution_count": 35,
      "outputs": []
    },
    {
      "cell_type": "code",
      "source": [
        "fft_test_img = np.fft.fft2(test_img)\n",
        "fftshift_test_img = np.fft.fftshift(fft_test_img)"
      ],
      "metadata": {
        "id": "NAHCwOXYMCf0"
      },
      "execution_count": 36,
      "outputs": []
    },
    {
      "cell_type": "code",
      "source": [
        "fftshift_train_img = fftshift_train_img.real\n",
        "fftshift_test_img = fftshift_test_img.real"
      ],
      "metadata": {
        "id": "d1XRKu3JK-ot"
      },
      "execution_count": 37,
      "outputs": []
    },
    {
      "cell_type": "code",
      "source": [
        "plt.imshow(fftshift_train_img[100])"
      ],
      "metadata": {
        "colab": {
          "base_uri": "https://localhost:8080/",
          "height": 282
        },
        "id": "jSVbCFqJLE7r",
        "outputId": "cc2eec4d-26a4-401c-dc98-6b60ca0a4e93"
      },
      "execution_count": 38,
      "outputs": [
        {
          "output_type": "execute_result",
          "data": {
            "text/plain": [
              "<matplotlib.image.AxesImage at 0x7f43f406dd10>"
            ]
          },
          "metadata": {},
          "execution_count": 38
        },
        {
          "output_type": "display_data",
          "data": {
            "text/plain": [
              "<Figure size 432x288 with 1 Axes>"
            ],
            "image/png": "[encoded data removed]"
          },
          "metadata": {
            "needs_background": "light"
          }
        }
      ]
    },
    {
      "cell_type": "code",
      "source": [
        "fftshift_train_img = fftshift_train_img.reshape(len(fftshift_train_img),28,28,1)\n",
        "fftshift_test_img =  fftshift_test_img.reshape(len(fftshift_test_img),28,28,1)"
      ],
      "metadata": {
        "id": "P6EspSDgLt9D"
      },
      "execution_count": 39,
      "outputs": []
    },
    {
      "cell_type": "code",
      "source": [
        "model.fit(fftshift_train_img,train_lable,validation_split=0.3,epochs=20)"
      ],
      "metadata": {
        "colab": {
          "base_uri": "https://localhost:8080/"
        },
        "id": "KsF-Uwm5MoF1",
        "outputId": "d31d57a8-a7dc-4880-a418-36c4d3251c6a"
      },
      "execution_count": 40,
      "outputs": [
        {
          "output_type": "stream",
          "name": "stdout",
          "text": [
            "Epoch 1/20\n",
            "1313/1313 [==============================] - 9s 7ms/step - loss: 2.4778 - accuracy: 0.1082 - val_loss: 2.3077 - val_accuracy: 0.1062\n",
            "Epoch 2/20\n",
            "1313/1313 [==============================] - 9s 7ms/step - loss: 2.3010 - accuracy: 0.1152 - val_loss: 2.3074 - val_accuracy: 0.1071\n",
            "Epoch 3/20\n",
            "1313/1313 [==============================] - 9s 7ms/step - loss: 2.2964 - accuracy: 0.1182 - val_loss: 2.3091 - val_accuracy: 0.1077\n",
            "Epoch 4/20\n",
            "1313/1313 [==============================] - 9s 7ms/step - loss: 2.2899 - accuracy: 0.1216 - val_loss: 2.3145 - val_accuracy: 0.1059\n",
            "Epoch 5/20\n",
            "1313/1313 [==============================] - 10s 8ms/step - loss: 2.2796 - accuracy: 0.1284 - val_loss: 2.3227 - val_accuracy: 0.1050\n",
            "Epoch 6/20\n",
            "1313/1313 [==============================] - 10s 8ms/step - loss: 2.2662 - accuracy: 0.1353 - val_loss: 2.3277 - val_accuracy: 0.1063\n",
            "Epoch 7/20\n",
            "1313/1313 [==============================] - 9s 7ms/step - loss: 2.2508 - accuracy: 0.1437 - val_loss: 2.3455 - val_accuracy: 0.1069\n",
            "Epoch 8/20\n",
            "1313/1313 [==============================] - 10s 8ms/step - loss: 2.2333 - accuracy: 0.1515 - val_loss: 2.3606 - val_accuracy: 0.1057\n",
            "Epoch 9/20\n",
            "1313/1313 [==============================] - 10s 8ms/step - loss: 2.2139 - accuracy: 0.1633 - val_loss: 2.3707 - val_accuracy: 0.1051\n",
            "Epoch 10/20\n",
            "1313/1313 [==============================] - 10s 8ms/step - loss: 2.1917 - accuracy: 0.1752 - val_loss: 2.3975 - val_accuracy: 0.1060\n",
            "Epoch 11/20\n",
            "1313/1313 [==============================] - 9s 7ms/step - loss: 2.1698 - accuracy: 0.1860 - val_loss: 2.4295 - val_accuracy: 0.1046\n",
            "Epoch 12/20\n",
            "1313/1313 [==============================] - 10s 8ms/step - loss: 2.1465 - accuracy: 0.1956 - val_loss: 2.4537 - val_accuracy: 0.1033\n",
            "Epoch 13/20\n",
            "1313/1313 [==============================] - 9s 7ms/step - loss: 2.1221 - accuracy: 0.2072 - val_loss: 2.4868 - val_accuracy: 0.1043\n",
            "Epoch 14/20\n",
            "1313/1313 [==============================] - 10s 8ms/step - loss: 2.0964 - accuracy: 0.2184 - val_loss: 2.5106 - val_accuracy: 0.1031\n",
            "Epoch 15/20\n",
            "1313/1313 [==============================] - 9s 7ms/step - loss: 2.0703 - accuracy: 0.2306 - val_loss: 2.5392 - val_accuracy: 0.1053\n",
            "Epoch 16/20\n",
            "1313/1313 [==============================] - 9s 7ms/step - loss: 2.0441 - accuracy: 0.2419 - val_loss: 2.6000 - val_accuracy: 0.1039\n",
            "Epoch 17/20\n",
            "1313/1313 [==============================] - 10s 7ms/step - loss: 2.0168 - accuracy: 0.2535 - val_loss: 2.6016 - val_accuracy: 0.1054\n",
            "Epoch 18/20\n",
            "1313/1313 [==============================] - 10s 8ms/step - loss: 1.9891 - accuracy: 0.2655 - val_loss: 2.6603 - val_accuracy: 0.1008\n",
            "Epoch 19/20\n",
            "1313/1313 [==============================] - 9s 7ms/step - loss: 1.9608 - accuracy: 0.2797 - val_loss: 2.7144 - val_accuracy: 0.1021\n",
            "Epoch 20/20\n",
            "1313/1313 [==============================] - 10s 8ms/step - loss: 1.9324 - accuracy: 0.2920 - val_loss: 2.7735 - val_accuracy: 0.1028\n"
          ]
        },
        {
          "output_type": "execute_result",
          "data": {
            "text/plain": [
              "<keras.callbacks.History at 0x7f43f4402f10>"
            ]
          },
          "metadata": {},
          "execution_count": 40
        }
      ]
    },
    {
      "cell_type": "code",
      "source": [
        "model.evaluate(fftshift_test_img,test_lable)"
      ],
      "metadata": {
        "colab": {
          "base_uri": "https://localhost:8080/"
        },
        "id": "I1rNLDAAMuyr",
        "outputId": "d299443c-83af-4c78-8162-e7dd445227fb"
      },
      "execution_count": 41,
      "outputs": [
        {
          "output_type": "stream",
          "name": "stdout",
          "text": [
            "313/313 [==============================] - 1s 4ms/step - loss: 2.7113 - accuracy: 0.1031\n"
          ]
        },
        {
          "output_type": "execute_result",
          "data": {
            "text/plain": [
              "[2.711313009262085, 0.1031000018119812]"
            ]
          },
          "metadata": {},
          "execution_count": 41
        }
      ]
    },
    {
      "cell_type": "code",
      "source": [
        "fftshift_y_pred = model.predict(fftshift_test_img)"
      ],
      "metadata": {
        "id": "zBxn9nIZNOeh"
      },
      "execution_count": 42,
      "outputs": []
    },
    {
      "cell_type": "code",
      "source": [
        "fftshift_y_classes = [np.argmax(element) for element in fftshift_y_pred]\n",
        "fftshift_y_classes[:10]"
      ],
      "metadata": {
        "colab": {
          "base_uri": "https://localhost:8080/"
        },
        "id": "eMFlMADaNVo7",
        "outputId": "7b60186a-05d3-41e3-8098-e8f7ac190149"
      },
      "execution_count": 43,
      "outputs": [
        {
          "output_type": "execute_result",
          "data": {
            "text/plain": [
              "[7, 1, 1, 4, 0, 2, 7, 4, 1, 3]"
            ]
          },
          "metadata": {},
          "execution_count": 43
        }
      ]
    },
    {
      "cell_type": "code",
      "source": [
        "test_lable[:10]"
      ],
      "metadata": {
        "id": "EMD4uGcjNllD",
        "outputId": "46fea4df-220b-4c8a-cdd7-e89a27e4156f",
        "colab": {
          "base_uri": "https://localhost:8080/"
        }
      },
      "execution_count": 44,
      "outputs": [
        {
          "output_type": "execute_result",
          "data": {
            "text/plain": [
              "array([7, 2, 1, 0, 4, 1, 4, 9, 5, 9], dtype=uint8)"
            ]
          },
          "metadata": {},
          "execution_count": 44
        }
      ]
    }
  ]
}